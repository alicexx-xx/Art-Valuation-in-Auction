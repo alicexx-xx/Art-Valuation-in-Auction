{
 "cells": [
  {
   "cell_type": "code",
   "execution_count": 1,
   "id": "4e42d3c7",
   "metadata": {},
   "outputs": [],
   "source": [
    "import numpy as np\n",
    "import pickle\n",
    "import pandas as pd\n",
    "import re\n",
    "import string\n",
    "\n",
    "pd.set_option('display.max_rows', 100)"
   ]
  },
  {
   "cell_type": "code",
   "execution_count": null,
   "id": "91513a7d",
   "metadata": {},
   "outputs": [],
   "source": [
    "catboost_result = pd.read_csv('Datasets/test_predictions_log_and_usd.csv', header=0, index_col=None)"
   ]
  },
  {
   "cell_type": "code",
   "execution_count": 19,
   "id": "508fbb55",
   "metadata": {},
   "outputs": [
    {
     "data": {
      "text/html": [
       "<div>\n",
       "<style scoped>\n",
       "    .dataframe tbody tr th:only-of-type {\n",
       "        vertical-align: middle;\n",
       "    }\n",
       "\n",
       "    .dataframe tbody tr th {\n",
       "        vertical-align: top;\n",
       "    }\n",
       "\n",
       "    .dataframe thead th {\n",
       "        text-align: right;\n",
       "    }\n",
       "</style>\n",
       "<table border=\"1\" class=\"dataframe\">\n",
       "  <thead>\n",
       "    <tr style=\"text-align: right;\">\n",
       "      <th></th>\n",
       "      <th>Covered_in_pm_20%</th>\n",
       "      <th>Covered_in_pm_50%</th>\n",
       "    </tr>\n",
       "    <tr>\n",
       "      <th>RANGE</th>\n",
       "      <th></th>\n",
       "      <th></th>\n",
       "    </tr>\n",
       "  </thead>\n",
       "  <tbody>\n",
       "    <tr>\n",
       "      <th>1 LOW</th>\n",
       "      <td>0.155620</td>\n",
       "      <td>0.380403</td>\n",
       "    </tr>\n",
       "    <tr>\n",
       "      <th>2 MID-LOW</th>\n",
       "      <td>0.189411</td>\n",
       "      <td>0.495899</td>\n",
       "    </tr>\n",
       "    <tr>\n",
       "      <th>3 MID-HIGH</th>\n",
       "      <td>0.137217</td>\n",
       "      <td>0.353398</td>\n",
       "    </tr>\n",
       "    <tr>\n",
       "      <th>4 HIGH</th>\n",
       "      <td>0.077748</td>\n",
       "      <td>0.179625</td>\n",
       "    </tr>\n",
       "  </tbody>\n",
       "</table>\n",
       "</div>"
      ],
      "text/plain": [
       "            Covered_in_pm_20%  Covered_in_pm_50%\n",
       "RANGE                                           \n",
       "1 LOW                0.155620           0.380403\n",
       "2 MID-LOW            0.189411           0.495899\n",
       "3 MID-HIGH           0.137217           0.353398\n",
       "4 HIGH               0.077748           0.179625"
      ]
     },
     "execution_count": 19,
     "metadata": {},
     "output_type": "execute_result"
    }
   ],
   "source": [
    "quantile_cutoffs = [8.069029328774958, 10.261895993101012, 13.001625835928326, 9999]\n",
    "quantile_names = ['1 LOW','2 MID-LOW','3 MID-HIGH','4 HIGH']\n",
    "\n",
    "\n",
    "for q, r in zip(reversed(quantile_cutoffs), reversed(quantile_names)):\n",
    "    catboost_result.loc[catboost_result['Log Price True']<=q, 'RANGE'] = r\n",
    "\n",
    "catboost_result['Covered_in_pm_20%'] = ((catboost_result['Price True USD']/catboost_result['Price Predicted USD']-1).abs()<=0.2).astype(int)\n",
    "catboost_result['Covered_in_pm_50%'] = ((catboost_result['Price True USD']/catboost_result['Price Predicted USD']-1).abs()<=0.5).astype(int)\n",
    "\n",
    "catboost_result.groupby('RANGE')[['Covered_in_pm_20%','Covered_in_pm_50%']].mean()"
   ]
  },
  {
   "cell_type": "code",
   "execution_count": null,
   "id": "1f412814",
   "metadata": {},
   "outputs": [],
   "source": [
    "result=pd.read_csv('Datasets/Price_Estimates.csv', header=0, index_col=None)"
   ]
  },
  {
   "cell_type": "code",
   "execution_count": 7,
   "id": "9501352b",
   "metadata": {},
   "outputs": [],
   "source": [
    "result['Estimates_Mid'] = (result['Price_Estimate_Upper'] + result['Price_Estimate_Lower'])/2\n",
    "result['Estimates_Range'] = result['Price_Estimate_Upper'] - result['Price_Estimate_Lower']\n",
    "result['Estimates_Range_USD'] = result['Estimates_Range']*(result['Price Sold USD']/result['Price_Ori_Currency'])\n",
    "result['Estimates_Range_Perc'] = result['Estimates_Range']/(2*result['Estimates_Mid'])\n",
    "result['Estimates_Covers_True'] = ((result['Price_Ori_Currency']>=result['Price_Estimate_Lower'])&(result['Price_Ori_Currency']<=result['Price_Estimate_Upper'])).astype(int)"
   ]
  },
  {
   "cell_type": "code",
   "execution_count": 10,
   "id": "65b7a288",
   "metadata": {},
   "outputs": [],
   "source": [
    "quantile_cutoffs=[8.069029328774958, 10.261895993101012, 13.001625835928326, 9999]\n",
    "quantile_names = ['1 LOW','2 MID-LOW','3 MID-HIGH','4 HIGH']\n",
    "\n",
    "for q, r in zip(reversed(quantile_cutoffs), reversed(quantile_names)):\n",
    "    result.loc[np.log(result['Price Sold USD'])<=q, 'RANGE'] = r"
   ]
  },
  {
   "cell_type": "code",
   "execution_count": 12,
   "id": "e4c480bb",
   "metadata": {},
   "outputs": [
    {
     "data": {
      "text/html": [
       "<div>\n",
       "<style scoped>\n",
       "    .dataframe tbody tr th:only-of-type {\n",
       "        vertical-align: middle;\n",
       "    }\n",
       "\n",
       "    .dataframe tbody tr th {\n",
       "        vertical-align: top;\n",
       "    }\n",
       "\n",
       "    .dataframe thead th {\n",
       "        text-align: right;\n",
       "    }\n",
       "</style>\n",
       "<table border=\"1\" class=\"dataframe\">\n",
       "  <thead>\n",
       "    <tr style=\"text-align: right;\">\n",
       "      <th></th>\n",
       "      <th>Average Price (USD)</th>\n",
       "      <th>Average Estimates Range (USD)</th>\n",
       "      <th>Average Estimates Range (%)</th>\n",
       "      <th>%Actual Falls in Estimates</th>\n",
       "      <th>%Actual Covered with Range &lt; 20%</th>\n",
       "      <th>%Actual Covered with Mid +- 20%</th>\n",
       "    </tr>\n",
       "    <tr>\n",
       "      <th>RANGE</th>\n",
       "      <th></th>\n",
       "      <th></th>\n",
       "      <th></th>\n",
       "      <th></th>\n",
       "      <th></th>\n",
       "      <th></th>\n",
       "    </tr>\n",
       "  </thead>\n",
       "  <tbody>\n",
       "    <tr>\n",
       "      <th>1 LOW</th>\n",
       "      <td>1,862.66</td>\n",
       "      <td>818.32</td>\n",
       "      <td>20.56</td>\n",
       "      <td>43.22</td>\n",
       "      <td>31.16</td>\n",
       "      <td>41.47</td>\n",
       "    </tr>\n",
       "    <tr>\n",
       "      <th>2 MID-LOW</th>\n",
       "      <td>12,443.01</td>\n",
       "      <td>3,665.85</td>\n",
       "      <td>18.97</td>\n",
       "      <td>37.57</td>\n",
       "      <td>29.99</td>\n",
       "      <td>39.94</td>\n",
       "    </tr>\n",
       "    <tr>\n",
       "      <th>3 MID-HIGH</th>\n",
       "      <td>118,432.27</td>\n",
       "      <td>32,386.50</td>\n",
       "      <td>18.57</td>\n",
       "      <td>33.44</td>\n",
       "      <td>25.69</td>\n",
       "      <td>34.84</td>\n",
       "    </tr>\n",
       "    <tr>\n",
       "      <th>4 HIGH</th>\n",
       "      <td>3,230,704.89</td>\n",
       "      <td>1,010,067.73</td>\n",
       "      <td>18.60</td>\n",
       "      <td>41.70</td>\n",
       "      <td>31.89</td>\n",
       "      <td>43.33</td>\n",
       "    </tr>\n",
       "  </tbody>\n",
       "</table>\n",
       "</div>"
      ],
      "text/plain": [
       "            Average Price (USD)  Average Estimates Range (USD)  \\\n",
       "RANGE                                                            \n",
       "1 LOW                  1,862.66                         818.32   \n",
       "2 MID-LOW             12,443.01                       3,665.85   \n",
       "3 MID-HIGH           118,432.27                      32,386.50   \n",
       "4 HIGH             3,230,704.89                   1,010,067.73   \n",
       "\n",
       "            Average Estimates Range (%)  %Actual Falls in Estimates  \\\n",
       "RANGE                                                                 \n",
       "1 LOW                             20.56                       43.22   \n",
       "2 MID-LOW                         18.97                       37.57   \n",
       "3 MID-HIGH                        18.57                       33.44   \n",
       "4 HIGH                            18.60                       41.70   \n",
       "\n",
       "            %Actual Covered with Range < 20%  %Actual Covered with Mid +- 20%  \n",
       "RANGE                                                                          \n",
       "1 LOW                                  31.16                            41.47  \n",
       "2 MID-LOW                              29.99                            39.94  \n",
       "3 MID-HIGH                             25.69                            34.84  \n",
       "4 HIGH                                 31.89                            43.33  "
      ]
     },
     "execution_count": 12,
     "metadata": {},
     "output_type": "execute_result"
    }
   ],
   "source": [
    "pd.options.display.float_format = '{:,.2f}'.format\n",
    "\n",
    "result[result['Estimates_Range'].notnull()].groupby('RANGE').apply(lambda x: pd.Series(\n",
    "    {\n",
    "        # 'No. Work': x['Price Sold USD'].count(),\n",
    "        'Average Price (USD)': x['Price Sold USD'].mean(),\n",
    "        # 'Estimates Available':x['Estimates_Range'].notnull().mean(),\n",
    "        # 'Average Estimates Range (Original Currency)': x['Estimates_Range'].mean(skipna=True),\n",
    "        'Average Estimates Range (USD)': x['Estimates_Range_USD'].mean(skipna=True),\n",
    "        'Average Estimates Range (%)': x['Estimates_Range_Perc'].mean(skipna=True)*100,\n",
    "        '%Actual Falls in Estimates': x['Estimates_Covers_True'].mean(skipna=True)*100,\n",
    "        '%Actual Covered with Range < 20%': ((x['Estimates_Covers_True']==1)&(x['Estimates_Range_Perc']<=0.2)).mean(skipna=True)*100,\n",
    "        '%Actual Covered with Mid +- 20%': ((x['Price_Ori_Currency']/x['Estimates_Mid']-1).abs()<=0.2).mean(skipna=True)*100\n",
    "    }\n",
    "))"
   ]
  }
 ],
 "metadata": {
  "kernelspec": {
   "display_name": "py_env",
   "language": "python",
   "name": "python3"
  },
  "language_info": {
   "codemirror_mode": {
    "name": "ipython",
    "version": 3
   },
   "file_extension": ".py",
   "mimetype": "text/x-python",
   "name": "python",
   "nbconvert_exporter": "python",
   "pygments_lexer": "ipython3",
   "version": "3.10.16"
  }
 },
 "nbformat": 4,
 "nbformat_minor": 5
}
